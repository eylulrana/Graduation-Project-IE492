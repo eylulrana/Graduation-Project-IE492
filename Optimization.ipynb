{
 "cells": [
  {
   "cell_type": "code",
   "execution_count": 87,
   "metadata": {},
   "outputs": [
    {
     "name": "stdout",
     "output_type": "stream",
     "text": [
      "   Customer_id   Pi ValueSegment     Ai        Vi\n",
      "0     97425734  0.0           A1  0.015  22558.55\n",
      "1     97425700  0.0            B  0.020    824.30\n",
      "2     97425673  0.0            D  0.030     27.79\n",
      "3     97425610  0.0            C  0.025    215.28\n",
      "4     97425607  0.0            B  0.020    824.30\n"
     ]
    }
   ],
   "source": [
    "import pandas as pd\n",
    "\n",
    "# Load CSV file\n",
    "# df0 = pd.read_csv('AprilChurnPredictions.csv')\n",
    "df0 = pd.read_csv('churn_predictions_with_ValueSegment.csv')\n",
    "# print(df.head())\n",
    "\n",
    "# Decode encoded valuesegment columns\n",
    "# segment_columns = df0.filter(like='ValueSegment').columns\n",
    "# df0['ValueSegment'] = df0[segment_columns].idxmax(axis=1)\n",
    "# df0['ValueSegment'] = df0['ValueSegment'].apply(lambda x: x.split('_')[1])\n",
    "\n",
    "# df0.drop(columns=segment_columns, inplace=True)\n",
    "# print(df.head())\n",
    "# print(df.dtypes)\n",
    "# print(df.isnull().sum())\n",
    "\n",
    "df = df0[['Customer_id', 'ChurnProbability', 'ValueSegment']]\n",
    "# df.rename(columns={'value_segment': 'ValueSegment'}, inplace=True)\n",
    "# df.rename(columns={'churn_probability': 'ChurnProbability'}, inplace=True)\n",
    "\n",
    "df.rename(columns={'ChurnProbability': 'Pi'}, inplace=True)\n",
    "\n",
    "\"\"\"\n",
    "# According to the bank's 3-month definition\n",
    "df = pd.read_csv(\"filtered_threemonths_churn.csv\")\n",
    "df.rename(columns={'Churn': 'Pi'}, inplace=True)\n",
    "\"\"\"\n",
    "\n",
    "base_acceptance_rates = {\n",
    "    'A1': 0.015,\n",
    "    'A2': 0.018,\n",
    "    'B': 0.02,\n",
    "    'C': 0.025,\n",
    "    'D': 0.030\n",
    "}\n",
    "df['Ai'] = df['ValueSegment'].map(base_acceptance_rates)\n",
    "\n",
    "E_values = {\n",
    "    'C1': 0.6,\n",
    "    'C2': 1,\n",
    "    'C3': 1.8\n",
    "}\n",
    "\n",
    "vi_values = {\n",
    "    # 'A1': 5663.92,\n",
    "    # 'A2': 3026.86,\n",
    "    # 'B': 1464.43,\n",
    "    # 'C': 383.67,\n",
    "    # 'D': 250\n",
    "        'A1': 22558.55,\n",
    "        'A2': 1894.69,\n",
    "        'B': 824.30,\n",
    "        'C': 215.28,\n",
    "        'D': 27.79\n",
    "    \n",
    "}\n",
    "\n",
    "df['Vi'] = df['ValueSegment'].map(vi_values)\n",
    "\n",
    "print(df.head())"
   ]
  },
  {
   "cell_type": "code",
   "execution_count": 88,
   "metadata": {},
   "outputs": [
    {
     "name": "stdout",
     "output_type": "stream",
     "text": [
      "DataFrame row count: 51169\n"
     ]
    }
   ],
   "source": [
    "# df = df.head(20000)\n",
    "# df = df.sample(n=20000, random_state=42)\n",
    "row_count = df.shape[0]\n",
    "print(\"DataFrame row count:\", row_count)\n"
   ]
  },
  {
   "cell_type": "code",
   "execution_count": 89,
   "metadata": {},
   "outputs": [
    {
     "name": "stdout",
     "output_type": "stream",
     "text": [
      "Model solved successfully.\n",
      "Total gain: 167,768,220.58\n"
     ]
    }
   ],
   "source": [
    "import pandas as pd\n",
    "import pulp as pl\n",
    "\n",
    "M = 400000\n",
    "B = 924/1283\n",
    "D = 2290/2422\n",
    "\n",
    "# campaign_costs = {'C1': 50, 'C2': 100, 'C3': 200}\n",
    "campaign_costs = {'C1': 75, 'C2': 125, 'C3': 250}\n",
    "\n",
    "# PuLP model\n",
    "model = pl.LpProblem(\"Customer_Retention_Optimization\", pl.LpMaximize)\n",
    "\n",
    "# Decision Variables \n",
    "# key: (customer_id, campaign)\n",
    "x_vars = {(i, c): pl.LpVariable(f\"x_{i}_{c}\", cat='Binary')\n",
    "          for i in df['Customer_id'] for c in campaign_costs.keys()}\n",
    "\n",
    "# # If no campaign is sent:\n",
    "for var in x_vars.values():\n",
    "    model += var == 0\n",
    "\n",
    "# Objective Function\n",
    "# max z = ΣI ΣC Vi [(Pi * B * 0.5)((Xic * Aic) - (1 - Xic)) + (1 - Pi) * D] - ΣI ΣC Xic * Cc * Aic\n",
    "\n",
    "model += pl.lpSum([\n",
    "    df.loc[df['Customer_id'] == i, 'Vi'].values[0] * (\n",
    "        (df.loc[df['Customer_id'] == i, 'Pi'].values[0] * B * 0.5) * \n",
    "        (x_vars[i, c] * df.loc[df['Customer_id'] == i, 'Ai'].values[0] * E_values[c] - (1 - x_vars[i, c])) + \n",
    "        (1 - df.loc[df['Customer_id'] == i, 'Pi'].values[0]) * D)\n",
    "         - x_vars[i, c] * df.loc[df['Customer_id'] == i, 'Ai'].values[0] * E_values[c] * campaign_costs[c] for i in df['Customer_id'].unique() for c in campaign_costs\n",
    "])\n",
    "\n",
    "# budget constraint\n",
    "total_cost = pl.lpSum([x_vars[(row['Customer_id'], c)] * campaign_costs[c] for index, row in df.iterrows() for c in campaign_costs.keys()])\n",
    "\n",
    "budget_constraint = pl.LpConstraint(e=total_cost, sense=pl.LpConstraintLE, rhs=M, name=\"BudgetConstraint\")\n",
    "\n",
    "model += budget_constraint\n",
    "\n",
    "# At most one campaign to one customer\n",
    "for i in df['Customer_id']:\n",
    "    model += pl.lpSum(x_vars[i, c] for c in campaign_costs) <= 1\n",
    "\n",
    "status = model.solve()\n",
    "\n",
    "# Check if the solution was successful\n",
    "\n",
    "if status == pl.LpStatusOptimal:\n",
    "    print(\"Model solved successfully.\")\n",
    "    total_gain_or_cost = model.objective.value()\n",
    "    formatted_total = f\"{total_gain_or_cost:,.2f}\"\n",
    "    print(\"Total gain:\", formatted_total)\n",
    "else:\n",
    "    print(\"Model could not be solved. Status:\", pl.LpStatus[status])"
   ]
  },
  {
   "cell_type": "code",
   "execution_count": 90,
   "metadata": {},
   "outputs": [
    {
     "name": "stdout",
     "output_type": "stream",
     "text": [
      "Unique CustomerID count: 51169\n",
      "\n",
      "               Count Percentage\n",
      "ValueSegment                  \n",
      "C             25099     %49.05\n",
      "B             15521     %30.33\n",
      "D              4640      %9.07\n",
      "A2             4140      %8.09\n",
      "A1             1769      %3.46 \n",
      "\n"
     ]
    },
    {
     "data": {
      "image/png": "[encoded data removed]",
      "text/plain": [
       "<Figure size 1000x1000 with 1 Axes>"
      ]
     },
     "metadata": {},
     "output_type": "display_data"
    },
    {
     "name": "stdout",
     "output_type": "stream",
     "text": [
      "Send Campaign count: 0 \n",
      "\n",
      "Total spending: 0\n",
      "\n",
      "Shadow Price Value: -0.0\n"
     ]
    }
   ],
   "source": [
    "# Customer numbers by their segments\n",
    "unique_customer_count = df['Customer_id'].nunique()\n",
    "print(\"Unique CustomerID count:\", unique_customer_count)\n",
    "\n",
    "segment_counts = df['ValueSegment'].value_counts()\n",
    "segment_percentages = df['ValueSegment'].value_counts(normalize=True) * 100\n",
    "segment_percentages = segment_percentages.apply(lambda x: f\"%{x:.2f}\")\n",
    "segment_summary = pd.DataFrame({'Count': segment_counts, 'Percentage': segment_percentages})\n",
    "print(\"\\n\", segment_summary, \"\\n\")\n",
    "\n",
    "import matplotlib.pyplot as plt\n",
    "\n",
    "# Plotting the pie chart\n",
    "plt.figure(figsize=(10, 10))\n",
    "plt.pie(segment_counts, labels=segment_counts.index, autopct='%1.1f%%', startangle=140, textprops={'fontsize': 14, 'weight': 'bold'})\n",
    "plt.title('Customer Distribution by ValueSegment', fontsize=16, weight='bold', pad=40)  # Adjust the padding to move the title\n",
    "\n",
    "# Display the pie chart\n",
    "plt.axis('equal')\n",
    "plt.show()\n",
    "\n",
    "\n",
    "results = []\n",
    "\n",
    "# Collect results for each customer and campaign from the x_vars dictionary\n",
    "for (customer_id, campaign), var in x_vars.items():\n",
    "    results.append({\n",
    "        'Customer_id': customer_id,\n",
    "        'Campaign': campaign,\n",
    "        'Decision': 'Send Campaign' if var.value() == 1 else 'Do Not Send Campaign'\n",
    "    })\n",
    "\n",
    "results_df = pd.DataFrame(results)\n",
    "results_df = results_df.merge(df[['Customer_id', 'ValueSegment']], on='Customer_id', how='left').drop_duplicates()\n",
    "\n",
    "# Print the number of campaigns sent and the corresponding dataframe\n",
    "decision_counts = results_df['Decision'].value_counts()\n",
    "print(\"Send Campaign count:\", decision_counts.get('Send Campaign', 0), \"\\n\")\n",
    "# print(results_df)\n",
    "\n",
    "# Finding the total campaign spending\n",
    "total_spending = 0\n",
    "\n",
    "for (customer_id, campaign), var in x_vars.items():\n",
    "    if pl.value(var) == 1:\n",
    "        total_spending += campaign_costs[campaign]\n",
    "\n",
    "print(\"Total spending:\", total_spending)\n",
    "print(\"\\nShadow Price Value:\", model.constraints[\"BudgetConstraint\"].pi)"
   ]
  },
  {
   "cell_type": "code",
   "execution_count": 91,
   "metadata": {},
   "outputs": [],
   "source": [
    "# from IPython.display import display, HTML\n",
    "# pd.set_option('display.max_rows', 100)\n",
    "# display(HTML(results_df.to_html(index=False)))"
   ]
  },
  {
   "cell_type": "code",
   "execution_count": 92,
   "metadata": {},
   "outputs": [],
   "source": [
    "# not_sent_indices = results_df[results_df['Decision'] != 'Send Campaign'].index\n",
    "\n",
    "# print(\"Kampanya gönderilmeyen müşterilerin indeksleri:\")\n",
    "# print(not_sent_indices.tolist())"
   ]
  },
  {
   "cell_type": "code",
   "execution_count": 93,
   "metadata": {},
   "outputs": [
    {
     "name": "stdout",
     "output_type": "stream",
     "text": [
      "0\n"
     ]
    }
   ],
   "source": [
    "# Filtering the DataFrame\n",
    "filtered_df = results_df[(results_df['ValueSegment'] == 'D') & (results_df['Decision'] == 'Send Campaign')]\n",
    "\n",
    "# Counting the number of unique Customer_id\n",
    "count = filtered_df['Customer_id'].nunique()\n",
    "\n",
    "print(count)"
   ]
  },
  {
   "cell_type": "code",
   "execution_count": 94,
   "metadata": {},
   "outputs": [
    {
     "name": "stdout",
     "output_type": "stream",
     "text": [
      "Sent campaign counts and percentages by campaign and segment:\n"
     ]
    },
    {
     "data": {
      "text/html": [
       "<div>\n",
       "<style scoped>\n",
       "    .dataframe tbody tr th:only-of-type {\n",
       "        vertical-align: middle;\n",
       "    }\n",
       "\n",
       "    .dataframe tbody tr th {\n",
       "        vertical-align: top;\n",
       "    }\n",
       "\n",
       "    .dataframe thead th {\n",
       "        text-align: right;\n",
       "    }\n",
       "</style>\n",
       "<table border=\"1\" class=\"dataframe\">\n",
       "  <thead>\n",
       "    <tr style=\"text-align: right;\">\n",
       "      <th>ValueSegment</th>\n",
       "      <th>Total</th>\n",
       "    </tr>\n",
       "    <tr>\n",
       "      <th>Campaign</th>\n",
       "      <th></th>\n",
       "    </tr>\n",
       "  </thead>\n",
       "  <tbody>\n",
       "    <tr>\n",
       "      <th>Total</th>\n",
       "      <td>0.0 (nan%)</td>\n",
       "    </tr>\n",
       "  </tbody>\n",
       "</table>\n",
       "</div>"
      ],
      "text/plain": [
       "ValueSegment       Total\n",
       "Campaign                \n",
       "Total         0.0 (nan%)"
      ]
     },
     "execution_count": 94,
     "metadata": {},
     "output_type": "execute_result"
    }
   ],
   "source": [
    "# Print sent campaigns based on campaign type and segment\n",
    "send_campaign_df = results_df[results_df['Decision'] == 'Send Campaign']\n",
    "campaign_segment_stats = send_campaign_df.groupby(['Campaign', 'ValueSegment']).size().unstack(fill_value=0)\n",
    "\n",
    "campaign_segment_stats['Total'] = campaign_segment_stats.sum(axis=1)\n",
    "campaign_segment_stats.loc['Total'] = campaign_segment_stats.sum()\n",
    "\n",
    "# Calculating and formatting percentages\n",
    "total_count = campaign_segment_stats.loc['Total', 'Total']\n",
    "percentage_df = campaign_segment_stats.div(total_count).multiply(100).round(2).astype(str) + '%'\n",
    "\n",
    "# Adding percentages next to numbers\n",
    "for col in campaign_segment_stats.columns:\n",
    "    campaign_segment_stats[col] = campaign_segment_stats[col].astype(str) + ' (' + percentage_df[col] + ')'\n",
    "\n",
    "print(\"Sent campaign counts and percentages by campaign and segment:\")\n",
    "campaign_segment_stats"
   ]
  },
  {
   "cell_type": "code",
   "execution_count": 95,
   "metadata": {},
   "outputs": [],
   "source": [
    "import matplotlib.pyplot as plt\n",
    "import numpy as np\n",
    "\n",
    "campaign_segment_counts = send_campaign_df.groupby(['Campaign', 'ValueSegment']).size().unstack(fill_value=0)\n",
    "\n",
    "# Draw a separate pie chart for each segment\n",
    "for segment in campaign_segment_counts.columns:\n",
    "    fig, ax = plt.subplots()\n",
    "    colors = plt.get_cmap('Blues')(np.linspace(0.2, 0.8, len(campaign_segment_counts.index)))\n",
    "    wedges, texts, autotexts = ax.pie(campaign_segment_counts[segment], labels=campaign_segment_counts.index, autopct='%1.1f%%', startangle=90, colors=colors)\n",
    "    for text in texts:\n",
    "        text.set_color('black')\n",
    "        text.set_fontweight('bold')\n",
    "        text.set_fontsize(10)\n",
    "    for autotext in autotexts:\n",
    "        autotext.set_color('black')\n",
    "        autotext.set_fontweight('bold')\n",
    "        autotext.set_fontsize(10)\n",
    "    ax.set_title(f'Campaign Distribution for Segment {segment}')\n",
    "    plt.show()"
   ]
  },
  {
   "cell_type": "code",
   "execution_count": 96,
   "metadata": {},
   "outputs": [
    {
     "name": "stdout",
     "output_type": "stream",
     "text": [
      "ValueSegment\n",
      "C     25099\n",
      "B     15521\n",
      "D      4640\n",
      "A2     4140\n",
      "A1     1769\n",
      "Name: count, dtype: int64\n",
      "Series([], Name: count, dtype: int64)\n"
     ]
    },
    {
     "ename": "ValueError",
     "evalue": "min() iterable argument is empty",
     "output_type": "error",
     "traceback": [
      "\u001b[1;31m---------------------------------------------------------------------------\u001b[0m",
      "\u001b[1;31mValueError\u001b[0m                                Traceback (most recent call last)",
      "Cell \u001b[1;32mIn[96], line 13\u001b[0m\n\u001b[0;32m     10\u001b[0m \u001b[38;5;28mprint\u001b[39m(segment_distribution)\n\u001b[0;32m     12\u001b[0m \u001b[38;5;66;03m# Using a color map with normalized values\u001b[39;00m\n\u001b[1;32m---> 13\u001b[0m norm \u001b[38;5;241m=\u001b[39m plt\u001b[38;5;241m.\u001b[39mNormalize(\u001b[38;5;28;43mmin\u001b[39;49m\u001b[43m(\u001b[49m\u001b[43msegment_distribution\u001b[49m\u001b[43m)\u001b[49m, \u001b[38;5;28mmax\u001b[39m(segment_distribution))\n\u001b[0;32m     14\u001b[0m colors \u001b[38;5;241m=\u001b[39m plt\u001b[38;5;241m.\u001b[39mcm\u001b[38;5;241m.\u001b[39mBlues(np\u001b[38;5;241m.\u001b[39mlinspace(\u001b[38;5;241m0.25\u001b[39m, \u001b[38;5;241m0.75\u001b[39m, \u001b[38;5;28mlen\u001b[39m(segment_distribution)))\n\u001b[0;32m     15\u001b[0m label_props \u001b[38;5;241m=\u001b[39m {\u001b[38;5;124m'\u001b[39m\u001b[38;5;124mfontsize\u001b[39m\u001b[38;5;124m'\u001b[39m: \u001b[38;5;241m12\u001b[39m, \u001b[38;5;124m'\u001b[39m\u001b[38;5;124mfontweight\u001b[39m\u001b[38;5;124m'\u001b[39m: \u001b[38;5;124m'\u001b[39m\u001b[38;5;124mbold\u001b[39m\u001b[38;5;124m'\u001b[39m}  \u001b[38;5;66;03m# Font size and thickness for labels\u001b[39;00m\n",
      "\u001b[1;31mValueError\u001b[0m: min() iterable argument is empty"
     ]
    }
   ],
   "source": [
    "# Visualization\n",
    "import numpy as np\n",
    "import matplotlib.pyplot as plt\n",
    "\n",
    "# Calculating segment distribution\n",
    "segment_counts = df['ValueSegment'].value_counts()\n",
    "print(segment_counts)\n",
    "\n",
    "segment_distribution = send_campaign_df['ValueSegment'].value_counts()\n",
    "print(segment_distribution)\n",
    "\n",
    "# Using a color map with normalized values\n",
    "norm = plt.Normalize(min(segment_distribution), max(segment_distribution))\n",
    "colors = plt.cm.Blues(np.linspace(0.25, 0.75, len(segment_distribution)))\n",
    "label_props = {'fontsize': 12, 'fontweight': 'bold'}  # Font size and thickness for labels\n",
    "\n",
    "# Pie graph\n",
    "plt.figure(figsize=(4, 3))\n",
    "plt.pie(segment_distribution, labels=segment_distribution.index, autopct=lambda p: f'{p:.1f}%' if p > 0 else '',\n",
    "        startangle=140, colors=colors, textprops=label_props, pctdistance=0.75)\n",
    "plt.title('Distribution of Segments Among Customers Who Received Campaign', fontsize=14, fontweight='bold')\n",
    "plt.show()"
   ]
  }
 ],
 "metadata": {
  "kernelspec": {
   "display_name": "Python 3",
   "language": "python",
   "name": "python3"
  },
  "language_info": {
   "codemirror_mode": {
    "name": "ipython",
    "version": 3
   },
   "file_extension": ".py",
   "mimetype": "text/x-python",
   "name": "python",
   "nbconvert_exporter": "python",
   "pygments_lexer": "ipython3",
   "version": "3.12.0"
  }
 },
 "nbformat": 4,
 "nbformat_minor": 2
}
